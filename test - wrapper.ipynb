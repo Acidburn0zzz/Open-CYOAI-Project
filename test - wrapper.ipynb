{
  "nbformat": 4,
  "nbformat_minor": 0,
  "metadata": {
    "colab": {
      "name": "wrapper.ipynb",
      "provenance": [],
      "collapsed_sections": [],
      "include_colab_link": true
    },
    "kernelspec": {
      "name": "python3",
      "display_name": "Python 3"
    }
  },
  "cells": [
    {
      "cell_type": "markdown",
      "metadata": {
        "id": "view-in-github",
        "colab_type": "text"
      },
      "source": [
        "<a href=\"https://colab.research.google.com/github/Kornilov1/AI-Dungeon-2-Anons-modded-Versions-Colab/blob/beta/test%20-%20wrapper.ipynb\" target=\"_parent\"><img src=\"https://colab.research.google.com/assets/colab-badge.svg\" alt=\"Open In Colab\"/></a>"
      ]
    },
    {
      "cell_type": "markdown",
      "metadata": {
        "id": "nqgPglYzMeek",
        "colab_type": "text"
      },
      "source": [
        "This colab is another test to check if the code length might be in cause. IT CAN ONLY RUN THADUNGE REPO. It's a wrapper made by some anon, it will call the latest beta colab and run its all-in-one cell."
      ]
    },
    {
      "cell_type": "code",
      "metadata": {
        "id": "htPml9lmniWK",
        "colab_type": "code",
        "colab": {}
      },
      "source": [
        "# All comments starting with @something are actually \n",
        "# the visible text when the code is hidden.\n",
        "#@title <- Click this once you're all set { form-width: \"10%\", display-mode: \"form\" }\n",
        "\n",
        "# To developers: Think about removing unnecessary comments to shorten the codes\n",
        "# in this cell as short as possible.\n",
        "\n",
        "# Here goes all the class imports needed by the cell\n",
        "import io\n",
        "from nbformat import reader\n",
        "from google.colab import drive\n",
        "\n",
        "# This will mount GDrive into the VM at /content/gdrive/My Drive\n",
        "# and place us in it\n",
        "print('----------------------------------------------------')\n",
        "print(\"Hello there Anon! Let us begin with the Google login\")\n",
        "print('It will authorize Colab to access your GDrive')\n",
        "print('----------------------------------------------------\\n\\n')\n",
        "drive.mount('/content/gdrive')\n",
        "note_dir = \"/content/gdrive/My Drive/Colab Notebooks/\"\n",
        "root_dir = \"/content/gdrive/My Drive/\"\n",
        "\n",
        "# These variables are dynamically changed depending of the form\n",
        "#@markdown Choose which modded AIDungeon 2 you want to run\n",
        "repository = \"thadunge2/AIDungeon\" #@param [\"thadunge2/AIDungeon\", \"cloveranon/Clover-Edition\"]\n",
        "#@markdown Select the maximum height (in pixels) of the game render\n",
        "heightmax = 5000 #@param {type:\"slider\", min:0, max:10000, step:100}\n",
        "#@markdown Double-click here to show/hide the code if you're a curiousfag\n",
        "\n",
        "is_wrapped = True\n",
        "# Use is_wrapped variable like this\n",
        "#\n",
        "# if 'is_wrapped' not in globals():\n",
        "#  is_wrapped = False\n",
        "#\n",
        "# if is_wrapped == True :\n",
        "#   print(\"is_wrapped = true\")\n",
        "# else :\n",
        "#   print(\"is_wrapped = false\")\n",
        "\n",
        "# insert install part of any prerequisites library for only this code, if any\n",
        "# !pip (some library)\n",
        "\n",
        "%cd -q $note_dir\n",
        "\n",
        "#ipynb_file = \"Open_CYOAI_Colab.ipynb\"\n",
        "#branch = \"master\"\n",
        "ipynb_file = \"Open_CYOAI_Colab_1.22.3_BETA.ipynb\"\n",
        "branch = \"beta\"\n",
        "\n",
        "print(\"git clone branch = \" + branch + \" nb = \" + ipynb_file)\n",
        "# I have no idea how to get a certain file with git, so I'll go in brute way\n",
        "!git clone -b $branch --single-branch \"https://github.com/Kornilov1/AI-Dungeon-2-Anons-modded-Versions-Colab\"\n",
        "%cp \"./AI-Dungeon-2-Anons-modded-Versions-Colab/{ipynb_file}\" .\n",
        "%rm -rf ./AI-Dungeon-2-Anons-modded-Versions-Colab\n",
        "\n",
        "# read notebook\n",
        "with io.open(ipynb_file) as f:\n",
        "  nb = reader.read(f)\n",
        "\n",
        "ip = get_ipython()\n",
        "\n",
        "#run first cell\n",
        "for cell in nb.cells:\n",
        "  if cell.cell_type == 'code':\n",
        "    ip.run_cell(cell.source)\n",
        "    break"
      ],
      "execution_count": 0,
      "outputs": []
    }
  ]
}