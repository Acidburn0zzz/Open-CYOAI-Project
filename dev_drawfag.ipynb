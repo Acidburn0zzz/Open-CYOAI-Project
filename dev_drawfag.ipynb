{
  "nbformat": 4,
  "nbformat_minor": 0,
  "metadata": {
    "colab": {
      "name": "dev_drawfag.ipynb",
      "provenance": [],
      "private_outputs": true,
      "include_colab_link": true
    },
    "kernelspec": {
      "name": "python3",
      "display_name": "Python 3"
    }
  },
  "cells": [
    {
      "cell_type": "markdown",
      "metadata": {
        "id": "view-in-github",
        "colab_type": "text"
      },
      "source": [
        "<a href=\"https://colab.research.google.com/github/Kornilov1/Open-CYOAI-Project/blob/beta/dev_drawfag.ipynb\" target=\"_parent\"><img src=\"https://colab.research.google.com/assets/colab-badge.svg\" alt=\"Open In Colab\"/></a>"
      ]
    },
    {
      "cell_type": "code",
      "metadata": {
        "id": "g9BG1IB6gl5L",
        "colab_type": "code",
        "colab": {}
      },
      "source": [
        "from IPython.display import HTML, Image\n",
        "from random import choice\n",
        "# listing of pictures made from github filenames (currently 1 to 15 and all .png)\n",
        "sequence = [i for i in range(1, 16)]\n",
        "# select a random pic\n",
        "for _ in range(1):\n",
        "\tpic = choice(sequence)\n",
        "# because fucktards\n",
        "print (\"<- Click this icon to close the pic. Big pictures take longer to load.\")\n",
        "# draw the pic and make it clickable to check it on github\n",
        "HTML(\"<center><a href=https://github.com/AIDungeonpastes/AID2-Art/tree/master/art/\" + str(pic) + \".png target=_blank><img src=https://raw.githubusercontent.com/AIDungeonpastes/AID2-Art/master/art/\" + str(pic) + \".png></a></center>\")"
      ],
      "execution_count": 0,
      "outputs": []
    }
  ]
}
