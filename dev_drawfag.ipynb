{
  "nbformat": 4,
  "nbformat_minor": 0,
  "metadata": {
    "colab": {
      "name": "dev_drawfag.ipynb",
      "provenance": [],
      "private_outputs": true,
      "include_colab_link": true
    },
    "kernelspec": {
      "name": "python3",
      "display_name": "Python 3"
    }
  },
  "cells": [
    {
      "cell_type": "markdown",
      "metadata": {
        "id": "view-in-github",
        "colab_type": "text"
      },
      "source": [
        "<a href=\"https://colab.research.google.com/github/VBPXKSMI/Open-CYOAI-Project/blob/beta/dev_drawfag.ipynb\" target=\"_parent\"><img src=\"https://colab.research.google.com/assets/colab-badge.svg\" alt=\"Open In Colab\"/></a>"
      ]
    },
    {
      "cell_type": "code",
      "metadata": {
        "id": "g9BG1IB6gl5L",
        "colab_type": "code",
        "colab": {}
      },
      "source": [
        "#@title ← Pick a pic! { form-width: \"10%\", display-mode: \"form\" }\n",
        "# Credits for the html parser goes to Adam Erickson https://stackoverflow.com/a/49567481\n",
        "# It still relies on a fixed extension though, might try to improve that\n",
        "\n",
        "import requests\n",
        "from bs4 import BeautifulSoup\n",
        "from random import choice\n",
        "from IPython.display import HTML, Image\n",
        "\n",
        "# Retrieving pictures urls and return them as array\n",
        "\n",
        "url = 'https://github.com/AIDungeonpastes/AID2-Art/tree/master/art'\n",
        "ext = 'png'\n",
        "\n",
        "def get_url_paths(url, ext='', params={}):\n",
        "    response = requests.get(url, params=params)\n",
        "    if response.ok:\n",
        "        response_text = response.text\n",
        "    else:\n",
        "        return response.raise_for_status()\n",
        "    soup = BeautifulSoup(response_text, 'html.parser')\n",
        "    parent = ['https://github.com' + node.get('href') for node in soup.find_all('a') if node.get('href').endswith(ext)]\n",
        "    return parent\n",
        "\n",
        "result = get_url_paths(url, ext)\n",
        "# Picking a random pic, this url is also for clickable link on pic\n",
        "pic = choice(result)\n",
        "# replacing url to actually show the pic\n",
        "raw = pic.replace(\"github.com/AIDungeonpastes/AID2-Art/blob/master\", \"raw.githubusercontent.com/AIDungeonpastes/AID2-Art/master\")\n",
        "# HTML code using previous variables\n",
        "render = \"\"\"<center><a href={0} target=_blank><img src={1}></img></a></center>\"\"\".format(pic, raw)\n",
        "\n",
        "# Rendering the pic\n",
        "print(\"← Click this icon to close the pic. Big pictures take longer to load.\")\n",
        "HTML(render)\n"
      ],
      "execution_count": 0,
      "outputs": []
    }
  ]
}