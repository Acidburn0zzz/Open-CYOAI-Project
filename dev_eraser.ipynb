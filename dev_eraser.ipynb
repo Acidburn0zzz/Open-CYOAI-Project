{
  "nbformat": 4,
  "nbformat_minor": 0,
  "metadata": {
    "colab": {
      "name": "dev-eraser.ipynb",
      "provenance": [],
      "collapsed_sections": [
        "9OyOAgpo0XfU",
        "xn0bEX3R8IMC",
        "gmioGz252Ghx",
        "88pDH9FP0TCz",
        "nqgPglYzMeek",
        "9mO5XY3HOBKN",
        "zITeSYmJvBp4",
        "nJMePPmJvBp7",
        "ooL1ozRUgO5r"
      ],
      "machine_shape": "hm",
      "include_colab_link": true
    },
    "kernelspec": {
      "name": "python3",
      "display_name": "Python 3"
    },
    "accelerator": "GPU"
  },
  "cells": [
    {
      "cell_type": "markdown",
      "metadata": {
        "id": "view-in-github",
        "colab_type": "text"
      },
      "source": [
        "<a href=\"https://colab.research.google.com/github/Kornilov1/AI-Dungeon-2-Anons-modded-Versions-Colab/blob/beta/dev_eraser.ipynb\" target=\"_parent\"><img src=\"https://colab.research.google.com/assets/colab-badge.svg\" alt=\"Open In Colab\"/></a>"
      ]
    },
    {
      "cell_type": "code",
      "metadata": {
        "id": "Gc8GGT99sIHn",
        "colab_type": "code",
        "colab": {}
      },
      "source": [
        "#@title <- **BEWARE**, run this cell **ONLY if you want to delete EVERYTHING** inside your Google Drive account. **NEVER run this while playing the game**, you will have to do it before doing so. It's suggested to move outside anything of importance or just use this for a throw away account. { form-width: \"10%\", display-mode: \"form\" }\n",
        "#@markdown *Once runned, wait for it to finish (it shouldn't take long) but Google Drive will only display that is empty after around 30-60 minutes.*\n",
        "#@markdown\n",
        "#@markdown  *It's not necessary to wait the 30-60 minutes.\n",
        "#@markdown\n",
        "#@markdown  *Now you will just have to do a fresh install again but your GDrive will be completly empty!*.\n",
        "\n",
        "# This will mount GDrive into the VM at /content/gdrive/My Drive\n",
        "# and place us in it\n",
        "print('----------------------------------------------------')\n",
        "print(\"Hello there Anon! Let us begin with the Google login\")\n",
        "print('It will authorize Colab to access your GDrive')\n",
        "print('----------------------------------------------------\\n\\n')\n",
        "from google.colab import drive\n",
        "drive.mount('/content/gdrive')\n",
        "root_dir = \"/content/gdrive/My Drive/\"\n",
        "\n",
        "# This is the code that will delete everything in your Drive\n",
        "print('\\n\\n----------------------------------------------------')\n",
        "print(\"Deleting everything in Drive\")\n",
        "print('----------------------------------------------------\\n\\n')\n",
        "%cd $root_dir\n",
        "!rm -rfv *\n",
        "print(\"Deletion Completed!\")"
      ],
      "execution_count": 0,
      "outputs": []
    }
  ]
}