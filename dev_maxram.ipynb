{
  "nbformat": 4,
  "nbformat_minor": 0,
  "metadata": {
    "colab": {
      "name": "dev_maxram.ipynb",
      "provenance": [],
      "private_outputs": true,
      "include_colab_link": true
    },
    "kernelspec": {
      "name": "python3",
      "display_name": "Python 3"
    }
  },
  "cells": [
    {
      "cell_type": "markdown",
      "metadata": {
        "id": "view-in-github",
        "colab_type": "text"
      },
      "source": [
        "<a href=\"https://colab.research.google.com/github/VBPXKSMI/Open-CYOAI-Project/blob/beta/dev_maxram.ipynb\" target=\"_parent\"><img src=\"https://colab.research.google.com/assets/colab-badge.svg\" alt=\"Open In Colab\"/></a>"
      ]
    },
    {
      "cell_type": "code",
      "metadata": {
        "id": "Zb8MBT52sIHn",
        "colab_type": "code",
        "colab": {}
      },
      "source": [
        "#@title <- Run this cell if you suffer an out of memory (OOM) error. { form-width: \"10%\", display-mode: \"form\" }\n",
        "#@markdown *Wait until it crashes and a little message pops up (takes about 10 seconds) asking if you'd like to increase the available memory.*\n",
        "#@markdown\n",
        "#@markdown  *Say yes and run the game in [SECTION 1 : PLAY THE GAME](#scrollTo=nqgPglYzMeek).*\n",
        "thislist = [\"1\"]\n",
        "while 1:\n",
        "    thislist *= 10"
      ],
      "execution_count": 0,
      "outputs": []
    }
  ]
}
