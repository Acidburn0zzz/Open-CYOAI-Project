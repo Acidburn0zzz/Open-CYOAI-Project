{
  "nbformat": 4,
  "nbformat_minor": 0,
  "metadata": {
    "colab": {
      "name": "Untitled1.ipynb",
      "provenance": [],
      "private_outputs": true,
      "authorship_tag": "ABX9TyMHfu/RDSe5w0/d0EKqY63V",
      "include_colab_link": true
    },
    "kernelspec": {
      "name": "python3",
      "display_name": "Python 3"
    }
  },
  "cells": [
    {
      "cell_type": "markdown",
      "metadata": {
        "id": "view-in-github",
        "colab_type": "text"
      },
      "source": [
        "<a href=\"https://colab.research.google.com/github/VBPXKSMI/Open-CYOAI-Project/blob/beta/dev_customizator.ipynb\" target=\"_parent\"><img src=\"https://colab.research.google.com/assets/colab-badge.svg\" alt=\"Open In Colab\"/></a>"
      ]
    },
    {
      "cell_type": "code",
      "metadata": {
        "id": "8o9V6psiaqiE",
        "colab_type": "code",
        "colab": {}
      },
      "source": [
        "import ipywidgets as widgets\n",
        "from IPython.display import HTML\n",
        "\n",
        "#-----------------------------\n",
        "# --- OUTPUT CUSTOMIZATION ---\n",
        "#-----------------------------\n",
        "# Remove the // at the beginning of a line to use said line.\n",
        "# You don't need 2 fonts, you can use the same in --font-render and --font-inputbox.\n",
        "# Go here for a full help https://github.com/VBPXKSMI/Open-CYOAI-Project/wiki/Customize-the-game-render-in-Colab\n",
        "display(HTML('''<style>\n",
        "/* Go to https://fonts.google.com/, pick a font by clicking + icon, and copy paste the @import tab code here, minus the <style> tag.*/\n",
        "@import url('');\n",
        "@import url('');\n",
        "\n",
        "/* Put google font css line value here, minus the \"font-family:\" */\n",
        "html {\n",
        "    --font-render: 'Courier New', monospace; /* change this to set your imported render font in the css */\n",
        "    --font-inputbox: 'Courier New', monospace; /* change this to set your imported inputbox font in the css */\n",
        "}\n",
        "/* This is the main render customization. Check the /* comments to use properly */\n",
        "/* hsl is Hue, Saturation, Light. Thanks to the Anon who point me that trick. */\n",
        "body {    \n",
        "    background: hsl(0, 0%, 22%); /* Background color */\n",
        "    color: hsl(0, 0%, 84%); /* Text color */\n",
        "    font-size: 14px; /* Font size */\n",
        "    font-weight: 400; /* 100 to 900, by increments of 100. 400 is \"normal\", less is thinner, more is bolder */\n",
        "    line-height: 1.24; /* Vertical distance between lines, to simplify. */\n",
        "}\n",
        "\n",
        "/* This is the inputbox customization */\n",
        "/* hsl is Hue, Saturation, Light. Thanks to the Anon who point me that trick. */\n",
        "/* #output-area input.stdin-widget { */\n",
        "input.raw_input {\n",
        "    width: 90%; /* Inputbox width (relative) */\n",
        "    background: hsl(0, 0%, 22%); /* Inputbox background color */\n",
        "    border: 1px solid hsl(0, 100%, 100%); /* Inputbox borders style. See https://codepen.io/geoffgraham/pen/gxvKbQ to choose your border style */\n",
        "    border-radius: 0px 0px 0px 0px; /* Curved corners. Values are top left, top right, bottom right, bottom left. */\n",
        "    color: hsl(0, 0%, 84%); /* Inputbox text color */\n",
        "    font-size: 14px; /* Inputbox font size. Changing this also changes the inputbox height accordingly. */\n",
        "    font-weight: 400; /* 100 to 900, by increments of 100. 400 is \"normal\", less is thinner, more is bolder */\n",
        "    font-family: var(--font-inputbox); /* Calling your inputbox font, no need to edit, just remove the first // to activate. */\n",
        "}\n",
        "pre {\n",
        "  white-space: pre-wrap; /* Wordwrapping, no need to edit */\n",
        "  font-family: var(--font-render); /* Calling your render font, no need to edit, just remove the first // to activate */\n",
        "}\n",
        "</style>'''))\n",
        "#-----------------------------\n",
        "# --- END OF CUSTOMIZATION ---\n",
        "#-----------------------------\n",
        "\n",
        "#HTML(render)\n",
        "print(\"Lorem ipsum dolor sit amet, consectetur adipiscing elit. Etiam finibus nibh diam, quis elementum mi malesuada ac. Etiam facilisis scelerisque scelerisque. Morbi pharetra nunc ac ante pretium, sed ultricies ipsum hendrerit. Phasellus suscipit libero in dolor accumsan, aliquam congue nunc semper. Integer elit enim, laoreet in accumsan sit amet, vulputate a mi. Vestibulum facilisis posuere ante, at feugiat nunc. Vestibulum ante ipsum primis in faucibus orci luctus et ultrices posuere cubilia Curae Sed mollis elementum diam, vel scelerisque magna tempor non. Mauris consequat nulla non dolor commodo aliquet. Quisque eget ipsum sed sapien vestibulum venenatis quis vitae nisi. Proin erat ante, maximus eu viverra sit amet, viverra sit amet enim. Sed pulvinar, enim gravida posuere viverra, quam ante vestibulum elit, quis imperdiet lectus urna quis erat. Phasellus accumsan mauris neque, et ullamcorper erat semper quis. Morbi tincidunt scelerisque enim, id blandit lorem pretium eget. Nunc non metus libero. Nam consequat tempor auctor. Curabitur pretium rhoncus nisl sed suscipit. Vestibulum in dui iaculis, fringilla ante non, rutrum nisl. Duis dignissim risus et sapien pharetra, at efficitur lectus faucibus. Quisque a placerat mi. Vestibulum a purus ullamcorper quam molestie malesuada. Nam luctus neque arcu, sed vehicula elit semper non. Sed vitae neque pellentesque, ultrices odio ut, consequat mauris. Nulla facilisi. Vestibulum tempor velit ante, dictum cursus tortor commodo a. Curabitur consectetur urna nisi, in imperdiet velit convallis et. Donec vehicula congue maximus. Vestibulum ut turpis nec eros vestibulum feugiat non sed lacus. Aliquam in nisi leo. Ut rhoncus interdum condimentum. Quisque venenatis, lorem id ultrices aliquam, nunc sem vestibulum sapien, vitae volutpat sapien urna nec arcu. Quisque luctus lacus aliquam ante tristique vulputate. Nulla eleifend euismod erat, semper iaculis quam auctor eu. Nulla vehicula pulvinar risus, at cursus diam eleifend sit amet. Curabitur venenatis volutpat ex vitae efficitur. Suspendisse potenti. Nunc non magna nisl. Ut lobortis ullamcorper quam, eget ullamcorper elit consequat id. Donec ut sapien non sapien lobortis euismod. Duis vel vestibulum nisl, nec mollis mi.\")\n",
        "try:    \n",
        "    input()\n",
        "except KeyboardInterrupt:\n",
        "    print('done.')\n",
        "else:\n",
        "    print('done.')\n"
      ],
      "execution_count": 0,
      "outputs": []
    }
  ]
}