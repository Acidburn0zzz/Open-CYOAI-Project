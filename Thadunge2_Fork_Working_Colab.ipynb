
Open In Colab
AI Dungeon 2 Thadunge2 Fork Working Colab
BYU PCCL

Sponsored by the BYU PCCL Lab.

Follow @nickwalton00 on twitter for updates.¶
About
While you wait you can read adventures others have had
Read more about how AI Dungeon 2 is made.

Please support AI Dungeon 2 to help get it back up.

Main mirrors of AI Dungeon 2 are currently down due to high download costs.
We are using bittorrent as a temporary solution to host game files and keep this game alive. It's not fast, but it's the best we've got right now.

If you want to help, best thing you can do is to download this torrent file with game files and seed it indefinitely to the best of your ability. This will help new players download this game faster, and discover the vast worlds of AIDungeon2!

Here's the code to get it to run with torrenting:

In [0]:
!git clone --branch master https://github.com/thadunge2/AIDungeon
%cd AIDungeon
!chmod 777 install.sh
!sed -i -e 's/\r$//' install.sh
!./install.sh
from IPython.display import clear_output 
clear_output()
print("Download Complete!")
Now, run this to play the game:

In [0]:
from IPython.display import Javascript
display(Javascript('''google.colab.output.setIframeHeight(0, true, {maxHeight: 5000})'''))
!python play.py
If you get an OOM (out of memory error, random crashes) you might want to increase the available RAM. To do this, run the code below. Wait until it crashes and a little message pops up asking if you'd like to increase the available memory. Say yes and run the game.

Credit goes to bpseudopod for figuring this out. View the post where that happened here: https://www.reddit.com/r/AIDungeon/comments/e782oi/tips_for_crash_prevention/

In [0]:
d = []
while True:
    d.append(1)
