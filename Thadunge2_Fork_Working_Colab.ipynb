{
  "nbformat": 4,
  "nbformat_minor": 0,
  "metadata": {
    "colab": {
      "name": "Thadunge2 Fork Working Colab.ipynb",
      "provenance": [],
      "collapsed_sections": [],
      "include_colab_link": true
    },
    "kernelspec": {
      "name": "python3",
      "display_name": "Python 3"
    },
    "accelerator": "GPU"
  },
  "cells": [
    {
      "cell_type": "markdown",
      "metadata": {
        "id": "view-in-github",
        "colab_type": "text"
      },
      "source": [
        "<a href=\"https://colab.research.google.com/github/Kornilov1/Thadunge2-Fork-Working-Colab/blob/master/Thadunge2_Fork_Working_Colab.ipynb\" target=\"_parent\"><img src=\"https://colab.research.google.com/assets/colab-badge.svg\" alt=\"Open In Colab\"/></a>"
      ]
    },
    {
      "cell_type": "markdown",
      "metadata": {
        "id": "7dRi_BDWErNf",
        "colab_type": "text"
      },
      "source": [
        "# AI Dungeon 2 Thadunge2 Fork Working Colab\n",
        "\n",
        "![BYU PCCL](https://pcc4318.files.wordpress.com/2018/02/asset-1.png?w=277)\n",
        "\n",
        "Sponsored by the [BYU PCCL Lab](https://pcc.cs.byu.edu/).\n",
        "\n",
        "### <a href=\"https://twitter.com/nickwalton00?ref_src=twsrc%5Etfw\" class=\"twitter-follow-button\" data-show-count=\"false\">Follow @nickwalton00</a> on twitter for updates.\n",
        "\n",
        "## About\n",
        "* While you wait you can [read adventures others have had](https://aidungeon.io/)\n",
        "* [Read more](https://pcc.cs.byu.edu/2019/11/21/ai-dungeon-2-creating-infinitely-generated-text-adventures-with-deep-learning-language-models/) about how AI Dungeon 2 is made.\n",
        "\n",
        "* Please [support AI Dungeon 2](https://www.patreon.com/join/AIDungeon/) to help get it back up."
      ]
    },
    {
      "cell_type": "markdown",
      "metadata": {
        "id": "xn0bEX3R8IMC",
        "colab_type": "text"
      },
      "source": [
        "# Main mirrors of AI Dungeon 2 are currently down due to high download costs.\n",
        "We are using bittorrent as a temporary solution to host game files and keep this game alive. It's not fast, but it's the best we've got right now.\n",
        "\n",
        "If you want to help, best thing you can do is to **[download this torrent file with game files](https://github.com/nickwalton/AIDungeon/files/3935881/model_v5.torrent.zip)** and **seed it** indefinitely to the best of your ability. This will help new players download this game faster, and discover the vast worlds of AIDungeon2!\n",
        "\n",
        "[Instructions:]()\n",
        "\n",
        "First make a copy of this Colab by clicking on 'file' (top left) then in 'save a copy in Drive'.\n",
        "\n",
        "Once you downloaded the torrent, upload the files in your Google Drive account so that like it looks like this: 'AIDungeon/generator/gpt2/models/'folder with model files here'/', that last folder should be called 'model_v5', also create a 'saves' folder inside said folder.\n",
        "\n",
        "Next, run the third cell for a while, it will eventually crash and give you more RAM (max is 25g), if you have already max RAM you can skip this.\n",
        "\n",
        "Then click on 'runtime environment' (top left) then on 'run all', and it should eventually run the game in the second cell.\n",
        "\n",
        "If you wish to use another Github version for whatever reason, just change the link on the last part of the first cell.\n",
        "\n",
        "If in the second cell gives you error, replace the cell with this parameters and it 'should' solve the problem (if you copy pasted the paramaters in one go, you will also have to delete the blank spaces left in the cell):\n",
        "\n",
        "from IPython.display import Javascript\n",
        "\n",
        "display(Javascript('''google.colab.output.setIframeHeight(0, true, {maxHeight: 5000})'''))\n",
        "\n",
        "!pip install regex\n",
        "\n",
        "!pip install profanityfilter\n",
        "\n",
        "!pip install func_timeout\n",
        "\n",
        "!pip install -r requirements.txt\n",
        "\n",
        "!pip install playsound\n",
        "\n",
        "!python play.py\n",
        "\n",
        "Enjoy.\n",
        "\n",
        "Here's the code to get it to run with torrenting:"
      ]
    },
    {
      "cell_type": "code",
      "metadata": {
        "id": "ZzWuh7dC87-j",
        "colab_type": "code",
        "colab": {}
      },
      "source": [
        "!git clone --branch master https://github.com/thadunge2/AIDungeon\n",
        "%cd AIDungeon\n",
        "!chmod 777 install.sh\n",
        "!sed -i -e 's/\\r$//' install.sh\n",
        "!./install.sh\n",
        "from IPython.display import clear_output \n",
        "clear_output()\n",
        "print(\"Download Complete!\")"
      ],
      "execution_count": 0,
      "outputs": []
    },
    {
      "cell_type": "markdown",
      "metadata": {
        "id": "IDhSolC09LLP",
        "colab_type": "text"
      },
      "source": [
        "Now, run this to play the game:"
      ]
    },
    {
      "cell_type": "code",
      "metadata": {
        "id": "-Lz_r-eJ9Klc",
        "colab_type": "code",
        "colab": {}
      },
      "source": [
        "from IPython.display import Javascript\n",
        "display(Javascript('''google.colab.output.setIframeHeight(0, true, {maxHeight: 5000})'''))\n",
        "!python play.py"
      ],
      "execution_count": 0,
      "outputs": []
    },
    {
      "cell_type": "markdown",
      "metadata": {
        "id": "s8JwIpZhqxJa",
        "colab_type": "text"
      },
      "source": [
        "If you get an OOM (out of memory error, random crashes) you might want to increase the available RAM. To do this, run the code below. Wait until it crashes and a little message pops up asking if you'd like to increase the available memory. Say yes and run the game.\n",
        "\n",
        "Credit goes to [bpseudopod](https://www.reddit.com/user/bpseudopod/) for figuring this out. View the post where that happened here: [https://www.reddit.com/r/AIDungeon/comments/e782oi/tips_for_crash_prevention/](https://www.reddit.com/r/AIDungeon/comments/e782oi/tips_for_crash_prevention/)"
      ]
    },
    {
      "cell_type": "code",
      "metadata": {
        "id": "Zb8MBT52sIHn",
        "colab_type": "code",
        "colab": {}
      },
      "source": [
        "d = []\n",
        "while True:\n",
        "    d.append(1)"
      ],
      "execution_count": 0,
      "outputs": []
    }
  ]
}
